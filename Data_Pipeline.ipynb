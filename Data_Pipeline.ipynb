{
  "nbformat": 4,
  "nbformat_minor": 0,
  "metadata": {
    "colab": {
      "provenance": [],
      "collapsed_sections": [
        "kETbCmAK7EDJ",
        "sTZlGdoy7lwO",
        "Ry4FRdiHmlF0",
        "MYpg4PKcmWzV",
        "vvMOgh928L81",
        "makKMCde3ztB"
      ],
      "authorship_tag": "ABX9TyNW2vPW5hhpwCSVsOpMUhFZ",
      "include_colab_link": true
    },
    "kernelspec": {
      "name": "python3",
      "display_name": "Python 3"
    },
    "language_info": {
      "name": "python"
    }
  },
  "cells": [
    {
      "cell_type": "markdown",
      "metadata": {
        "id": "view-in-github",
        "colab_type": "text"
      },
      "source": [
        "<a href=\"https://colab.research.google.com/github/abhirbhandary/Data_Engineering/blob/main/Data_Pipeline.ipynb\" target=\"_parent\"><img src=\"https://colab.research.google.com/assets/colab-badge.svg\" alt=\"Open In Colab\"/></a>"
      ]
    },
    {
      "cell_type": "markdown",
      "source": [
        "# Aim\n",
        "\n",
        "1.   To Extract Data by Scraping Wikipedia\n",
        "2.   To Get get using API\n",
        "3.   To Save the data in a database\n",
        "\n"
      ],
      "metadata": {
        "id": "NHBTjE1lXhRt"
      }
    },
    {
      "cell_type": "markdown",
      "source": [
        "### 1. Extracting Data from Wikipedia about Franfurt."
      ],
      "metadata": {
        "id": "kETbCmAK7EDJ"
      }
    },
    {
      "cell_type": "code",
      "source": [
        "# colab has an older version of beautifulsoup by default\n",
        "# here we upgrade it\n",
        "# if you are working on your own computer, you can probably comment this step out and skip it\n",
        "!pip install --upgrade beautifulsoup4"
      ],
      "metadata": {
        "id": "4zujSdHQV5xT"
      },
      "execution_count": null,
      "outputs": []
    },
    {
      "cell_type": "code",
      "execution_count": null,
      "metadata": {
        "id": "09E5mZ6mjM-J"
      },
      "outputs": [],
      "source": [
        "# 1. import libraries\n",
        "from bs4 import BeautifulSoup\n",
        "import requests\n",
        "import pandas as pd\n",
        "import re"
      ]
    },
    {
      "cell_type": "code",
      "source": [
        "# 2. find url and store it in a variable\n",
        "url = \"https://en.wikipedia.org/wiki/Frankfurt_am_Main\""
      ],
      "metadata": {
        "id": "EfulSS0rj9Gd"
      },
      "execution_count": null,
      "outputs": []
    },
    {
      "cell_type": "code",
      "source": [
        "# 3. download html with a get request\n",
        "response = requests.get(url)\n",
        "response.status_code # 200 status code means OK!"
      ],
      "metadata": {
        "id": "6ToaJ81GkC0r"
      },
      "execution_count": null,
      "outputs": []
    },
    {
      "cell_type": "code",
      "source": [
        "#headers = {'Accept-Language': 'en-US,en;q=0.8'}\n",
        "#response = requests.get(url, headers = headers)"
      ],
      "metadata": {
        "id": "EKh-CS6ciHyb"
      },
      "execution_count": null,
      "outputs": []
    },
    {
      "cell_type": "code",
      "source": [
        "# 4.1. parse html (create the 'soup')\n",
        "soup = BeautifulSoup(response.content, \"html.parser\")\n",
        "# 4.2. check that the html code looks like it should\n",
        "soup"
      ],
      "metadata": {
        "id": "bBB9cK_1kHeK"
      },
      "execution_count": null,
      "outputs": []
    },
    {
      "cell_type": "code",
      "source": [
        "# soup"
      ],
      "metadata": {
        "id": "4MN4P4mQYQov"
      },
      "execution_count": null,
      "outputs": []
    },
    {
      "cell_type": "code",
      "source": [
        "# 5. retrieve/extract the desired info\n",
        "# let's first try to get the name of the city\n",
        "# by copying the selector we can see that it has the id firstHeading (it also has a class by the same name!)\n",
        "soup.select(\"#firstHeading\")"
      ],
      "metadata": {
        "id": "NEPylwtLkRz6"
      },
      "execution_count": null,
      "outputs": []
    },
    {
      "cell_type": "code",
      "source": [
        "soup.select(\"#firstHeading\")[0]"
      ],
      "metadata": {
        "id": "ziNak2vrZbGu"
      },
      "execution_count": null,
      "outputs": []
    },
    {
      "cell_type": "code",
      "source": [
        "soup.select(\"#firstHeading\")[0].get_text()"
      ],
      "metadata": {
        "id": "xC2gDSscWtyS"
      },
      "execution_count": null,
      "outputs": []
    },
    {
      "cell_type": "code",
      "source": [
        "# here we initialise our empty dictionary for the city\n",
        "response_dict = {}\n",
        "\n",
        "# here we fill the dictionary with information using the ids, classes, and selectors that we found in the html\n",
        "response_dict['city'] = soup.select(\".firstHeading\")[0].get_text()\n",
        "response_dict['country'] = soup.select(\".infobox-data\")[0].get_text()\n",
        "response_dict['latitude'] = soup.select(\".latitude\")[0].get_text()\n",
        "response_dict['longitude'] = soup.select(\".longitude\")[0].get_text()\n",
        "response_dict['Population'] = soup.select(\".infobox-data\")[10].get_text()"
      ],
      "metadata": {
        "id": "LnlQO4u2YZBM"
      },
      "execution_count": null,
      "outputs": []
    },
    {
      "cell_type": "code",
      "source": [
        "# add our dictionary for the city to list_for_df\n",
        "list_for_df = []\n",
        "list_for_df.append(response_dict)\n",
        "\n",
        "# make the DataFrame\n",
        "cities_df = pd.DataFrame(list_for_df)"
      ],
      "metadata": {
        "id": "-dSKGkvAZLdi"
      },
      "execution_count": null,
      "outputs": []
    },
    {
      "cell_type": "code",
      "source": [
        "  # fixing latitude\n",
        "  cities_df['latitude'] = cities_df['latitude'].str.split('″').str[0].str.replace('°', '.', regex=False).str.replace('′', '', regex=False)\n",
        "  # fixing longitude\n",
        "  cities_df['longitude'] = cities_df['longitude'].str.split('″').str[0].str.replace('°', '.', regex=False).str.replace('′', '', regex=False)"
      ],
      "metadata": {
        "id": "IO8CP0qcaBA7"
      },
      "execution_count": null,
      "outputs": []
    },
    {
      "cell_type": "code",
      "source": [
        "# fixing Population\n",
        "cities_df['Population'] = cities_df['Population'].str.replace(',', '', regex=False)"
      ],
      "metadata": {
        "id": "_eLaJ8lweqPm"
      },
      "execution_count": null,
      "outputs": []
    },
    {
      "cell_type": "code",
      "source": [
        "cities_df"
      ],
      "metadata": {
        "id": "OYUwL8KvaaHD"
      },
      "execution_count": null,
      "outputs": []
    },
    {
      "cell_type": "markdown",
      "source": [
        "### 2. Open Weather API for Franfurt."
      ],
      "metadata": {
        "id": "sTZlGdoy7lwO"
      }
    },
    {
      "cell_type": "code",
      "source": [
        "import json"
      ],
      "metadata": {
        "id": "jcjVdCZIca4A"
      },
      "execution_count": null,
      "outputs": []
    },
    {
      "cell_type": "code",
      "source": [
        "# Custom Function to get data like IPython.display in jupiter notebook\n",
        "from IPython.display import HTML\n",
        "\n",
        "def render_json(jstr):\n",
        "  if type(jstr) != str:\n",
        "    jstr = json.dumps(jstr)\n",
        "  return HTML(\"\"\"\n",
        "<script src=\"https://rawgit.com/caldwell/renderjson/master/renderjson.js\"></script>\n",
        "<script>\n",
        "renderjson.set_show_to_level(1)\n",
        "document.body.appendChild(renderjson(%s))\n",
        "new ResizeObserver(google.colab.output.resizeIframeToContent).observe(document.body)\n",
        "</script>\n",
        "\"\"\" % jstr)"
      ],
      "metadata": {
        "id": "vqXsD1zscj1V"
      },
      "execution_count": null,
      "outputs": []
    },
    {
      "cell_type": "code",
      "source": [
        "cities_df.info()"
      ],
      "metadata": {
        "id": "pq8wh8ijcxHL"
      },
      "execution_count": null,
      "outputs": []
    },
    {
      "cell_type": "code",
      "source": [
        "cities_df"
      ],
      "metadata": {
        "id": "clkDWwTsfg8m"
      },
      "execution_count": null,
      "outputs": []
    },
    {
      "cell_type": "code",
      "source": [
        "cities_df = cities_df.astype({'latitude':'float','longitude':'float','Population':'int'})"
      ],
      "metadata": {
        "id": "3Q11ODQPdSqP"
      },
      "execution_count": null,
      "outputs": []
    },
    {
      "cell_type": "code",
      "source": [
        "cities_df['city_id'] = cities_df.index\n",
        "cities_df"
      ],
      "metadata": {
        "id": "2f39BBQMhtk3"
      },
      "execution_count": null,
      "outputs": []
    },
    {
      "cell_type": "code",
      "source": [
        "# The response from the website is stored inside the variable 'Frankfurt'.\n",
        "Frankfurt = requests.get(f\"https://api.openweathermap.org/data/2.5/weather?lat=50.110924&lon=8.682127&appid=#####&units=metric\")\n",
        "Frankfurt"
      ],
      "metadata": {
        "id": "PNn9rm3glFx6"
      },
      "execution_count": null,
      "outputs": []
    },
    {
      "cell_type": "code",
      "source": [
        "# Get the status code from the response.\n",
        "Frankfurt.status_code"
      ],
      "metadata": {
        "id": "s-Zh-AzZluM0"
      },
      "execution_count": null,
      "outputs": []
    },
    {
      "cell_type": "code",
      "source": [
        "# Get the text from the response.\n",
        "Frankfurt.text"
      ],
      "metadata": {
        "id": "V4razmFClydJ"
      },
      "execution_count": null,
      "outputs": []
    },
    {
      "cell_type": "code",
      "source": [
        "# view the response as a JSON.\n",
        "Frankfurt.json()"
      ],
      "metadata": {
        "id": "JgNuYHPImQYr"
      },
      "execution_count": null,
      "outputs": []
    },
    {
      "cell_type": "markdown",
      "source": [
        "### 3. Day Weather for 5 Days Frankfurt -API"
      ],
      "metadata": {
        "id": "Ry4FRdiHmlF0"
      }
    },
    {
      "cell_type": "code",
      "source": [
        "Frankfurt = requests.get(f\"https://api.openweathermap.org/data/2.5/forecast?lat=50.110924&lon=8.682127&appid=#####&units=metric\")\n",
        "Frankfurt"
      ],
      "metadata": {
        "id": "-Ez6QThrm4zw"
      },
      "execution_count": null,
      "outputs": []
    },
    {
      "cell_type": "code",
      "source": [
        "weather_json = Frankfurt.json()"
      ],
      "metadata": {
        "id": "SNiZICMXgI80"
      },
      "execution_count": null,
      "outputs": []
    },
    {
      "cell_type": "code",
      "source": [
        "weather_json"
      ],
      "metadata": {
        "id": "Ly6xViJZifAc"
      },
      "execution_count": null,
      "outputs": []
    },
    {
      "cell_type": "code",
      "source": [
        "render_json(weather_json)"
      ],
      "metadata": {
        "id": "pfsushBvgPnE"
      },
      "execution_count": null,
      "outputs": []
    },
    {
      "cell_type": "code",
      "execution_count": null,
      "metadata": {
        "id": "c0cede0a-eca2-4189-ad28-0274e99408b0"
      },
      "outputs": [],
      "source": [
        "# we'll store the information in this dicitonary:\n",
        "\n",
        "weather_dict = {'city':[],\n",
        "                'time':[],\n",
        "                'temp':[],\n",
        "                'outlook':[],\n",
        "                'wind_speed':[],\n",
        "                'pressure':[]}"
      ]
    },
    {
      "cell_type": "code",
      "execution_count": null,
      "metadata": {
        "id": "3cf1f20b-906e-4a97-b0c9-c30bc8e7754a"
      },
      "outputs": [],
      "source": [
        "# let's begin the loop\n",
        "for i in weather_json['list']:\n",
        "    weather_dict['city'].append(weather_json['city']['name'])\n",
        "    weather_dict['time'].append(i['dt_txt'])\n",
        "    weather_dict['temp'].append(i['main']['temp'])\n",
        "    weather_dict['outlook'].append(i['weather'][0]['main'])\n",
        "    weather_dict['wind_speed'].append(i['wind']['speed'])\n",
        "    weather_dict['pressure'].append(i['main']['pressure'])"
      ]
    },
    {
      "cell_type": "code",
      "execution_count": null,
      "metadata": {
        "collapsed": true,
        "jupyter": {
          "outputs_hidden": true
        },
        "tags": [],
        "id": "aacf99de-c97e-4a1d-9cfc-b46d00665d9c"
      },
      "outputs": [],
      "source": [
        "weather_dict"
      ]
    },
    {
      "cell_type": "code",
      "execution_count": null,
      "metadata": {
        "collapsed": true,
        "jupyter": {
          "outputs_hidden": true
        },
        "tags": [],
        "id": "b153be7f-1a02-4bbe-8980-026aea0fc364"
      },
      "outputs": [],
      "source": [
        "# Now we convert our dictionary to a DataFrame\n",
        "weather_df = pd.DataFrame(weather_dict)\n",
        "weather_df"
      ]
    },
    {
      "cell_type": "code",
      "source": [
        "weather_df['city_id'] = 0"
      ],
      "metadata": {
        "id": "zP73dxUOi7Ec"
      },
      "execution_count": null,
      "outputs": []
    },
    {
      "cell_type": "code",
      "source": [
        "weather_df"
      ],
      "metadata": {
        "id": "WHaLgl1ljCn4"
      },
      "execution_count": null,
      "outputs": []
    },
    {
      "cell_type": "markdown",
      "source": [
        "### 4. Airport Data for Frankfurt - API"
      ],
      "metadata": {
        "id": "MYpg4PKcmWzV"
      }
    },
    {
      "cell_type": "markdown",
      "source": [
        "Frankurt: latitude 50.11 longitude 8.68."
      ],
      "metadata": {
        "id": "ONJTjN8zmh5a"
      }
    },
    {
      "cell_type": "code",
      "source": [
        "import requests\n",
        "\n",
        "url = \"https://aerodatabox.p.rapidapi.com/airports/search/location/50.11/8.68/km/50/16\"\n",
        "\n",
        "querystring = {\"withFlightInfoOnly\":\"true\"}\n",
        "\n",
        "headers = {\n",
        "\t\"X-RapidAPI-Key\": \"######\",\n",
        "\t\"X-RapidAPI-Host\": \"aerodatabox.p.rapidapi.com\"\n",
        "}\n",
        "\n",
        "response = requests.request(\"GET\", url, headers=headers, params=querystring)\n",
        "\n",
        "print(response.text)"
      ],
      "metadata": {
        "id": "4fQGAF3cmbXu"
      },
      "execution_count": null,
      "outputs": []
    },
    {
      "cell_type": "code",
      "source": [
        "response.json()"
      ],
      "metadata": {
        "id": "mA_LxmLOnEmK"
      },
      "execution_count": null,
      "outputs": []
    },
    {
      "cell_type": "markdown",
      "source": [
        "We can now turn this into a dataframe using .json_normalize()"
      ],
      "metadata": {
        "id": "f_q_bWQnnLdi"
      }
    },
    {
      "cell_type": "code",
      "source": [
        "Airport_df = pd.DataFrame(pd.json_normalize(response.json()['items']))"
      ],
      "metadata": {
        "id": "EWMbDiwynaxQ"
      },
      "execution_count": null,
      "outputs": []
    },
    {
      "cell_type": "code",
      "source": [
        "Airport_df"
      ],
      "metadata": {
        "id": "K7dl6hJr__gf"
      },
      "execution_count": null,
      "outputs": []
    },
    {
      "cell_type": "markdown",
      "source": [
        "### 5. Arrivals and Depatures at Frankfurt Airport - API"
      ],
      "metadata": {
        "id": "vvMOgh928L81"
      }
    },
    {
      "cell_type": "code",
      "execution_count": null,
      "metadata": {
        "id": "DPtfEBNYvPVS"
      },
      "outputs": [],
      "source": [
        "import pandas as pd\n",
        "from datetime import datetime, date, timedelta\n",
        "from pytz import timezone"
      ]
    },
    {
      "cell_type": "code",
      "source": [
        "icao = \"EDDF\""
      ],
      "metadata": {
        "id": "puWdYdfZ7jyg"
      },
      "execution_count": null,
      "outputs": []
    },
    {
      "cell_type": "code",
      "source": [
        "today = datetime.now().astimezone(timezone('Europe/Berlin')).date()\n",
        "tomorrow = (today + timedelta(days=1))"
      ],
      "metadata": {
        "id": "dgweRhCo9kBy"
      },
      "execution_count": null,
      "outputs": []
    },
    {
      "cell_type": "code",
      "source": [
        "import requests\n",
        "\n",
        "url = f\"https://aerodatabox.p.rapidapi.com/flights/airports/icao/{icao}/{tomorrow}T12:00/{tomorrow}T23:59\"\n",
        "\n",
        "querystring = {\"withLeg\":\"false\",\"direction\":\"Arrival\",\"withCancelled\":\"false\",\"withCodeshared\":\"false\",\"withCargo\":\"false\",\"withPrivate\":\"false\",\"withLocation\":\"true\"}\n",
        "\n",
        "headers = {\n",
        "\t\"X-RapidAPI-Key\": \"#####\",\n",
        "\t\"X-RapidAPI-Host\": \"aerodatabox.p.rapidapi.com\"\n",
        "}\n",
        "\n",
        "response = requests.get(url, headers=headers, params=querystring)\n",
        "\n",
        "print(response.json())"
      ],
      "metadata": {
        "id": "2g32vjaey33S"
      },
      "execution_count": null,
      "outputs": []
    },
    {
      "cell_type": "code",
      "source": [
        "flights = response.json()"
      ],
      "metadata": {
        "id": "4lETLsYHy30p"
      },
      "execution_count": null,
      "outputs": []
    },
    {
      "cell_type": "code",
      "source": [
        "flights.keys()"
      ],
      "metadata": {
        "id": "Ep-dPZbxy3xJ"
      },
      "execution_count": null,
      "outputs": []
    },
    {
      "cell_type": "code",
      "source": [
        "len(flights[\"arrivals\"])"
      ],
      "metadata": {
        "id": "OHCYxYCVy3ti"
      },
      "execution_count": null,
      "outputs": []
    },
    {
      "cell_type": "code",
      "source": [
        "flights[\"arrivals\"][0][\"movement\"][\"airport\"][\"icao\"]"
      ],
      "metadata": {
        "id": "5QAI6b98y3qW"
      },
      "execution_count": null,
      "outputs": []
    },
    {
      "cell_type": "code",
      "source": [
        "flights[\"arrivals\"][0][\"movement\"][\"scheduledTime\"]['local']"
      ],
      "metadata": {
        "id": "RFT758GF3ZAo"
      },
      "execution_count": null,
      "outputs": []
    },
    {
      "cell_type": "code",
      "source": [
        "flights[\"arrivals\"][0][\"movement\"][\"terminal\"]"
      ],
      "metadata": {
        "id": "24DJMZsb4PmQ"
      },
      "execution_count": null,
      "outputs": []
    },
    {
      "cell_type": "code",
      "source": [
        "flights[\"arrivals\"][0]"
      ],
      "metadata": {
        "id": "noRQ_0Sp4mfW"
      },
      "execution_count": null,
      "outputs": []
    },
    {
      "cell_type": "code",
      "source": [
        "icao"
      ],
      "metadata": {
        "id": "xZZG8MQQ8AC_"
      },
      "execution_count": null,
      "outputs": []
    },
    {
      "cell_type": "code",
      "source": [
        "flights_dict = {'ICAO':[],\n",
        "                'departure_airport':[],\n",
        "                'local_time':[]}"
      ],
      "metadata": {
        "id": "3k5m-vqzE_3n"
      },
      "execution_count": null,
      "outputs": []
    },
    {
      "cell_type": "code",
      "source": [
        "\n",
        "        for flight in flights['arrivals']:\n",
        "            flights_dict['ICAO'].append(icao)\n",
        "            try:\n",
        "                flights_dict['departure_airport'].append(flight['movement']['airport']['icao'])\n",
        "            except:\n",
        "                flights_dict['departure_airport'].append('unknown')\n",
        "            try:\n",
        "                flights_dict['local_time'].append(flight['movement']['scheduledTime'][\"local\"])\n",
        "            except:\n",
        "                flights_dict['local_time'].append(pd.NaT)"
      ],
      "metadata": {
        "id": "ryOr928h1GYu"
      },
      "execution_count": null,
      "outputs": []
    },
    {
      "cell_type": "code",
      "source": [
        "flights_df = pd.DataFrame(flights_dict)"
      ],
      "metadata": {
        "id": "rAYdbQNqFmun"
      },
      "execution_count": null,
      "outputs": []
    },
    {
      "cell_type": "code",
      "source": [
        "flights_df"
      ],
      "metadata": {
        "id": "6Dx-GXfRFpdn"
      },
      "execution_count": null,
      "outputs": []
    },
    {
      "cell_type": "markdown",
      "source": [
        "### 6. SQL"
      ],
      "metadata": {
        "id": "makKMCde3ztB"
      }
    },
    {
      "cell_type": "markdown",
      "source": [
        "Pushing City data data base"
      ],
      "metadata": {
        "id": "fWvkmIKoMXXZ"
      }
    },
    {
      "cell_type": "code",
      "source": [
        "# City Data\n",
        "cities_df"
      ],
      "metadata": {
        "id": "dPzWO4wA_RA4"
      },
      "execution_count": null,
      "outputs": []
    },
    {
      "cell_type": "code",
      "source": [
        "# City Weather Data\n",
        "weather_df"
      ],
      "metadata": {
        "id": "KzdmMZGM_LvW"
      },
      "execution_count": null,
      "outputs": []
    },
    {
      "cell_type": "code",
      "source": [
        "# Airport Data\n",
        "Airport_df"
      ],
      "metadata": {
        "id": "Svw5g2VOA7TT"
      },
      "execution_count": null,
      "outputs": []
    },
    {
      "cell_type": "code",
      "source": [
        "# Arrival Depature Data\n",
        "flights_df"
      ],
      "metadata": {
        "id": "qqIMXfTZ4WWH"
      },
      "execution_count": null,
      "outputs": []
    },
    {
      "cell_type": "code",
      "source": [
        "import sqlite3"
      ],
      "metadata": {
        "id": "OdQes5LqBCZ7"
      },
      "execution_count": null,
      "outputs": []
    },
    {
      "cell_type": "code",
      "source": [
        "# Create Database\n",
        "conn = sqlite3.connect('gans_local')"
      ],
      "metadata": {
        "id": "8vwqgj57BXYe"
      },
      "execution_count": null,
      "outputs": []
    },
    {
      "cell_type": "code",
      "source": [
        "# To create table\n",
        "conn.execute('''\n",
        "\n",
        "CREATE TABLE cities (\n",
        "    city VARCHAR(100),\n",
        "    country VARCHAR(100),\n",
        "    latitude FLOAT,\n",
        "    longitude FLOAT,\n",
        "    Population INT,\n",
        "    city_id INT,\n",
        "    PRIMARY KEY (city_id)\n",
        "); '''\n",
        ")\n",
        "\n",
        "conn.commit()"
      ],
      "metadata": {
        "id": "oFVJo8hCBzT9"
      },
      "execution_count": null,
      "outputs": []
    },
    {
      "cell_type": "code",
      "source": [
        "# to see the table\n",
        "rs = conn.execute('SELECT * FROM cities')\n",
        "for row in rs:\n",
        "  print(row)"
      ],
      "metadata": {
        "id": "aWoge2p4Duvu"
      },
      "execution_count": null,
      "outputs": []
    },
    {
      "cell_type": "code",
      "source": [
        "cities_df.to_sql('cities', conn, if_exists='replace')"
      ],
      "metadata": {
        "id": "dVNsbHJxIzQK"
      },
      "execution_count": null,
      "outputs": []
    },
    {
      "cell_type": "code",
      "source": [
        "# Another way\n",
        "qry = \"\"\"\n",
        "\n",
        "SELECT * FROM cities\n",
        "\n",
        "\"\"\"\n",
        "cities = pd.read_sql_query(qry, conn)\n",
        "cities"
      ],
      "metadata": {
        "id": "qUwkmzx-FUIR"
      },
      "execution_count": null,
      "outputs": []
    },
    {
      "cell_type": "markdown",
      "source": [
        "Pushing City Weather Data"
      ],
      "metadata": {
        "id": "WMDzwvFeMnV_"
      }
    },
    {
      "cell_type": "code",
      "source": [
        "weather_df.head()"
      ],
      "metadata": {
        "id": "OaRxZD6-MyIw"
      },
      "execution_count": null,
      "outputs": []
    },
    {
      "cell_type": "code",
      "source": [
        "# To create table\n",
        "conn.execute('''\n",
        "\n",
        "CREATE TABLE weather (\n",
        "\t  weather_id INT AUTO_INCREMENT,\n",
        "    city VARCHAR(100),\n",
        "    `time` DATETIME,\n",
        "    temp FLOAT,\n",
        "    outlook VARCHAR(100),\n",
        "    wind_speed FLOAT,\n",
        "    pressure INT,\n",
        "    city_id INT NOT NULL,\n",
        "    PRIMARY KEY (weather_id),\n",
        "    FOREIGN KEY (city_id) REFERENCES cities(city_id)\n",
        "); '''\n",
        ")\n",
        "\n",
        "conn.commit()"
      ],
      "metadata": {
        "id": "cdzoYk1iMvNF"
      },
      "execution_count": null,
      "outputs": []
    },
    {
      "cell_type": "code",
      "source": [
        "weather_df.to_sql('weather', conn, if_exists='replace')"
      ],
      "metadata": {
        "id": "TFxpO9BPNxSY"
      },
      "execution_count": null,
      "outputs": []
    },
    {
      "cell_type": "code",
      "source": [
        "# Another way\n",
        "qry = \"\"\"\n",
        "\n",
        "SELECT * FROM weather\n",
        "\n",
        "\"\"\"\n",
        "cities = pd.read_sql_query(qry, conn)\n",
        "cities"
      ],
      "metadata": {
        "id": "WQa8JlZgN7LZ"
      },
      "execution_count": null,
      "outputs": []
    },
    {
      "cell_type": "markdown",
      "source": [
        "Pushing Airport Data\n"
      ],
      "metadata": {
        "id": "lZKDZrawOPGA"
      }
    },
    {
      "cell_type": "code",
      "source": [
        "Airport_df.head()"
      ],
      "metadata": {
        "id": "11_2OegfO_FN"
      },
      "execution_count": null,
      "outputs": []
    },
    {
      "cell_type": "code",
      "source": [
        "Airport_df['city_id'] = Airport_df.index"
      ],
      "metadata": {
        "id": "iIV__78gQ45G"
      },
      "execution_count": null,
      "outputs": []
    },
    {
      "cell_type": "code",
      "source": [
        "Airport_df = Airport_df[[\"icao\",\"city_id\"]]"
      ],
      "metadata": {
        "id": "QhNRwFnZRB-9"
      },
      "execution_count": null,
      "outputs": []
    },
    {
      "cell_type": "code",
      "source": [
        "# To create table\n",
        "conn.execute('''\n",
        "\n",
        "CREATE TABLE airports(\n",
        "\t  city_id INT NOT NULL,\n",
        "    icao VARCHAR(10),\n",
        "    PRIMARY KEY (icao),\n",
        "    FOREIGN KEY (city_id) REFERENCES cities(city_id)\n",
        "); '''\n",
        ")\n",
        "\n",
        "conn.commit()"
      ],
      "metadata": {
        "id": "Kt3O1OCpPJy8"
      },
      "execution_count": null,
      "outputs": []
    },
    {
      "cell_type": "code",
      "source": [
        "Airport_df.to_sql('airports', conn, if_exists='replace')"
      ],
      "metadata": {
        "id": "sqvCEsMhSxF6"
      },
      "execution_count": null,
      "outputs": []
    },
    {
      "cell_type": "code",
      "source": [
        "# Another way\n",
        "qry = \"\"\"\n",
        "\n",
        "SELECT * FROM airports\n",
        "\n",
        "\"\"\"\n",
        "airports = pd.read_sql_query(qry, conn)\n",
        "airports"
      ],
      "metadata": {
        "id": "6QbT5qaGQmHE"
      },
      "execution_count": null,
      "outputs": []
    },
    {
      "cell_type": "markdown",
      "source": [
        "Pushing flights data"
      ],
      "metadata": {
        "id": "y2a5ydoBUFZ2"
      }
    },
    {
      "cell_type": "code",
      "source": [
        "flights_df.head()"
      ],
      "metadata": {
        "id": "xICqg4tmUxks"
      },
      "execution_count": null,
      "outputs": []
    },
    {
      "cell_type": "code",
      "source": [
        "# To create table\n",
        "conn.execute('''\n",
        "\n",
        "CREATE TABLE flights(\n",
        "\t  flight_id INTEGER PRIMARY KEY AUTOINCREMENT,\n",
        "    ICAO VARCHAR(10),\n",
        "    departure_airport VARCHAR(10),\n",
        "    local_time DATETIME,\n",
        "    FOREIGN KEY (ICAO) REFERENCES airports(icao)\n",
        "); '''\n",
        ")\n",
        "\n",
        "conn.commit()"
      ],
      "metadata": {
        "id": "7cEPXCM_U1qz"
      },
      "execution_count": null,
      "outputs": []
    },
    {
      "cell_type": "code",
      "source": [
        "flights_df.to_sql('flights', conn, if_exists='replace')"
      ],
      "metadata": {
        "id": "tNWhKQbRWz7H"
      },
      "execution_count": null,
      "outputs": []
    },
    {
      "cell_type": "code",
      "source": [
        "# Another way\n",
        "qry = \"\"\"\n",
        "\n",
        "SELECT * FROM flights\n",
        "\n",
        "\"\"\"\n",
        "airports = pd.read_sql_query(qry, conn)\n",
        "airports"
      ],
      "metadata": {
        "id": "S4ZzHtsMXHga"
      },
      "execution_count": null,
      "outputs": []
    }
  ]
}